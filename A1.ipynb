{
 "cells": [
  {
   "cell_type": "markdown",
   "metadata": {},
   "source": [
    "# Assignment 1: Supervised Learning [ __ / 100 marks]"
   ]
  },
  {
   "cell_type": "markdown",
   "metadata": {},
   "source": [
    "<img src=\"https://miro.medium.com/max/700/1*uo6VfVH87jRjMZWVdwq3Vw.png\"/>"
   ]
  },
  {
   "cell_type": "markdown",
   "metadata": {},
   "source": [
    "In this assignment we will be comparing the fits of the $L_2$ (OLS) and $L_1$ (LAD) cost functions on the famous iris dataset. Take a look at L1_C.ipynb if you get stuck (you can find this on OWL --> Lessons --> Week 1: \"Supervised Learning, Regression\"). Note: for brevity, I will write $L_2$ as L2 and $L_1$ as L1."
   ]
  },
  {
   "cell_type": "markdown",
   "metadata": {},
   "source": [
    "#### Before you start..."
   ]
  },
  {
   "cell_type": "markdown",
   "metadata": {},
   "source": [
    "Recall the L1 loss function:\n",
    "\n",
    "$$L_1(\\theta) = \\sum_{i=1}^{n} \\lvert {y_i-\\hat{y_i}} \\rvert$$\n",
    "\n",
    "Also recall the L2 loss function:\n",
    "\n",
    "$$L_2(\\theta) = \\sum_{i=1}^{n} ({y_i-\\hat{y_i}})^2$$"
   ]
  },
  {
   "cell_type": "markdown",
   "metadata": {},
   "source": [
    "#### Ok, let's start..."
   ]
  },
  {
   "cell_type": "code",
   "execution_count": 2,
   "metadata": {},
   "outputs": [],
   "source": [
    "# imports\n",
    "import matplotlib.pyplot as plt \n",
    "import numpy as np\n",
    "import pandas as pd\n",
    "import scipy.optimize as so\n",
    "from IPython.display import display\n",
    "%matplotlib inline"
   ]
  },
  {
   "cell_type": "markdown",
   "metadata": {},
   "source": [
    "### Question 1.1 [ _ /4 marks]"
   ]
  },
  {
   "cell_type": "markdown",
   "metadata": {},
   "source": [
    "Download the file `iris.csv` (from the A1 page) into the same folder as this notebook. Using pandas, read this csv file into a DataFrame. Next, plot a scatter plot using the \"petal.width\" column as your independent variable and \"sepal.length\" as your dependent variable. Label the axes. "
   ]
  },
  {
   "cell_type": "code",
   "execution_count": 1,
   "metadata": {},
   "outputs": [],
   "source": [
    "# read the csv in with pandas [ /1 mark]\n",
    "# ****** your code here ******\n",
    "\n",
    "# plot a scatter plot with labels [ /3 marks]\n",
    "# ****** your code here ******\n",
    "\n",
    "\n"
   ]
  },
  {
   "cell_type": "markdown",
   "metadata": {},
   "source": [
    "### Question 1.2 [ _/4 marks]\n",
    "\n",
    "For a linear model we obtain predictions using $ \\mathbf{\\hat{y}} = \\mathbf{X} \\mathbf{b} $, where $\\mathbf{X}$ has a column of ones and a column of inputs $x_i$, and $\\mathbf{b}$ contains parameters $b_0$ and $b_1$. \n",
    "\n",
    "\\begin{equation}\n",
    "\\begin{bmatrix}\n",
    "\\hat{y_0}\\\\\n",
    "\\hat{y_1}\\\\\n",
    ".. \\\\\n",
    "\\hat{y_n}\n",
    "\\end{bmatrix}\n",
    "= \n",
    "\\begin{bmatrix}\n",
    "1 & x_0\\\\\n",
    "1 & x_1\\\\\n",
    ".. & .. \\\\\n",
    "1 & x_n\n",
    "\\end{bmatrix}\n",
    "\\begin{bmatrix}\n",
    "b_0\\\\\n",
    "b_1\\\\\n",
    "\\end{bmatrix}\n",
    "\\end{equation}\n",
    "\n",
    "Write a function called `linearModelPredict` which returns predictions `yp` (a 1d-array) given arguments X (a 2d-array) and b (a 1d-array). Test this function with the values provided (i.e. print or display the result of the function call). "
   ]
  },
  {
   "cell_type": "code",
   "execution_count": 12,
   "metadata": {},
   "outputs": [],
   "source": [
    "# write your function here [ /2 marks]\n",
    "def linearModelPredict(b,X):\n",
    "    yp = # ****** your code here ******\n",
    "    return yp\n",
    "\n",
    "# use these provided values\n",
    "X = np.array([[1,0],[1,-1],[1,2]])\n",
    "b = np.array([0.1,0.3])\n",
    "\n",
    "# test your function here [ /2 marks]\n",
    "# ****** your code here ******\n"
   ]
  },
  {
   "cell_type": "markdown",
   "metadata": {},
   "source": [
    "### Question 1.3 [ _/8 marks]\n",
    "\n",
    "Write a function called `linearModelLossRSS` which returns a 2-tuple containing the L2 loss value (rss) and the gradient (provided) given arguments b (1d-array), X (2d-array), and y (observed output, a 1d-array). Test linearModelLossRSS with the values provided for X, b, and y by calling said function with these values and displaying or printing the resulting output. "
   ]
  },
  {
   "cell_type": "code",
   "execution_count": null,
   "metadata": {},
   "outputs": [],
   "source": [
    "# write your function here [ /6 marks]\n",
    "def linearModelLossRSS(b,X,y):\n",
    "    yp = # ****** your code here ******\n",
    "    res = # ****** your code here ******\n",
    "    rss = # ****** your code here ******\n",
    "    gradient= -2*np.dot(res,X)\n",
    "    return (rss, gradient)\n",
    "\n",
    "# use these provided values \n",
    "X = np.array([[1,0],[1,-1],[1,2]])\n",
    "b = np.array([0.1,0.3])\n",
    "y = np.array([0,0.4,2]) \n",
    "\n",
    "# test your function here [ /2 marks]\n",
    "# ****** your code here ******\n"
   ]
  },
  {
   "cell_type": "markdown",
   "metadata": {},
   "source": [
    "### Question 1.4 [ _/8 marks]\n",
    "\n",
    "Write a function called `linearModelLossLAD`: it returns a 2-tuple containing the L1 loss value (sad) and the gradient (provided) given arguments b (1d-array), X (2d-array), and y (observed output, a 1d-array). Test linearModelLossLAD with the values provided for X, b, and y by calling the function with these values and displaying or printing the resulting output."
   ]
  },
  {
   "cell_type": "code",
   "execution_count": null,
   "metadata": {},
   "outputs": [],
   "source": [
    "# write your function here [ /6 marks]\n",
    "def linearModelLossLAD(b,X,y):\n",
    "    yp = # ****** your code here ******\n",
    "    res = # ****** your code here ******\n",
    "    sad = # ****** your code here ******\n",
    "    grad = - (np.dot(np.sign(res),X))\n",
    "    return (sad,grad)\n",
    "\n",
    "# use these provided values\n",
    "X = np.array([[1,0],[1,-1],[1,2]])\n",
    "b = np.array([0.1,0.3])\n",
    "y = np.array([0,0.4,2]) \n",
    "\n",
    "#test your function here [ /2 marks]\n",
    "# ****** your code here ******\n"
   ]
  },
  {
   "cell_type": "markdown",
   "metadata": {},
   "source": [
    "### Question 1.5 [ _/14 marks]\n",
    "\n",
    "Write a function called `linearModelFit` which returns a 2-tuple containing a prediction for b (`bpr`, a 1d-array) and the $R^2$ value (`R2`) of your fit, given arguments X (2d-array), y (1d-array), and lossf (the loss function for your fit). For now, set lossf as the L2 loss function that you defined previously. Call linearModelFit with the provided values and print the result."
   ]
  },
  {
   "cell_type": "code",
   "execution_count": 17,
   "metadata": {},
   "outputs": [],
   "source": [
    "# write your function here [ /12 marks]\n",
    "def linearModelFit(X,y,lossf = # ****** your code here ****** ):\n",
    "    nrows,ncols = X.shape\n",
    "    bpr=np.zeros((ncols,1))\n",
    "    RES = # ****** your code here ******\n",
    "    bpr= # ****** your code here ******\n",
    "    res = # ****** your code here ******\n",
    "    TSS = # ****** your code here ******\n",
    "    RSS,deriv = # ****** your code here ******\n",
    "    R2 = # # ****** your code here ******\n",
    "    return (bpr,R2)\n",
    "\n",
    "# use these provided values\n",
    "X = np.array([[1,0],[1,-1],[1,2]])\n",
    "b = np.array([0.1,0.3])\n",
    "y = np.array([0,0.4,2]) \n",
    "\n",
    "# test your function here [ /2 marks]\n",
    "# ****** your code here ******\n",
    "                   "
   ]
  },
  {
   "cell_type": "markdown",
   "metadata": {},
   "source": [
    "### Question 2.1 [ _/13 marks]\n",
    "\n",
    "Let's fit our L1 and L2 models to the iris data from Question 1.1 and then plot our prediction lines. We'll start with L2: Fit the data from 1.1 using `linearModelFit` (with `lossf = linearModelLossRSS`) to get an estimate for b (name it `bpr`). Use bpr to generate a prediction line for new data `X_new` (provided). In a single figure, plot the data points with the fit line; label the axes; finally, display or print the $R^2$ value (or alternatively, annotate the plot with the $R^2$ value)."
   ]
  },
  {
   "cell_type": "code",
   "execution_count": null,
   "metadata": {},
   "outputs": [],
   "source": [
    "# put data from 1.1 into X,y [ /4 marks]\n",
    "y = df.loc[:,\"sepal.length\"].values\n",
    "x = # ****** your code here ******\n",
    "X = # ****** your code here ******\n",
    "\n",
    "# fit this data with linearModelFit [ /2 marks]\n",
    "bpr, R2 = # ****** your code here ******\n",
    "\n",
    "# use this data for your prediction plot\n",
    "x_grid = np.linspace(x.min(), x.max(),10)\n",
    "Xnew = np.c_[np.ones(x_grid.size), x_grid]\n",
    "\n",
    "# get your predicted y using Xnew [ /2 marks]\n",
    "yp = # ****** your code here ******\n",
    "\n",
    "# plot the iris data with your prediction line, print R2 [ /5 marks]\n",
    "# ****** your code here ******\n",
    "\n",
    "\n",
    "\n"
   ]
  },
  {
   "cell_type": "markdown",
   "metadata": {},
   "source": [
    "### Question 2.2 [ _/15 marks]\n",
    "\n",
    "Now consider L1 as your loss function. Fit the data from 1.1 using `linearModelFit` with `lossf = linearModelLossLAD` to get an estimate for b (name it `bpr`). Use bpr to generate a prediction line for new data `X_new` (provided). In a single figure, plot the data points and fit line; also label the plot with axes; finally, print the $R^2$ value (or annotate the plot). Which of the two fit lines appears to best match the data? Write your answer below."
   ]
  },
  {
   "cell_type": "code",
   "execution_count": null,
   "metadata": {},
   "outputs": [],
   "source": [
    "# put data from 1.1 into X,y [ /4 marks]\n",
    "y = df.loc[:,\"sepal.length\"].values\n",
    "x = # ****** your code here ******\n",
    "X = # ****** your code here ******\n",
    "\n",
    "# fit the data with linearModelFit [ /2 marks]\n",
    "bpr, R2 = # ****** your code here ******\n",
    "\n",
    "# use this data for your prediction plot\n",
    "x_grid = np.linspace(x.min(), x.max(),10)\n",
    "Xnew = np.c_[np.ones(x_grid.size), x_grid]\n",
    "\n",
    "# get your predicted y ('yp') using Xnew [ /2 marks]\n",
    "yp = # ****** your code here ******\n",
    "\n",
    "# plot the iris data with your prediction line, print R2 [ /5 marks]\n",
    "# ****** your code here ******\n",
    "\n",
    "\n",
    "\n",
    "#  Which of the two fit lines appears to best match the data? [ /2 marks]\n",
    "\n"
   ]
  },
  {
   "cell_type": "markdown",
   "metadata": {},
   "source": [
    "### Question 2.3 [ _/20 marks]"
   ]
  },
  {
   "cell_type": "markdown",
   "metadata": {},
   "source": [
    "Download the file `outliers.csv` (from the A1 page) into the same folder as this notebook. Using pandas, read this file into a DataFrame, then append this to your iris dataset DataFrame. Perform an L1 fit and an L2 fit on this combined DataFrame (iris + outliers). Finally, plot lines of best fit using new x values (i.e. the code is provided for the L2 fit and you can reuse those lines of code for L1). Which of the two fit lines appears to best match the data? Write your answer below. "
   ]
  },
  {
   "cell_type": "code",
   "execution_count": null,
   "metadata": {},
   "outputs": [],
   "source": [
    "# read outliers.csv, append it to original dataframe [ /2 marks]\n",
    "# ****** your code here ******\n",
    "\n",
    "# put data (iris + outliers) into variables X,y [ /5 marks]\n",
    "y = # ****** your code here ******\n",
    "x = # ****** your code here ******\n",
    "X = # ****** your code here ******\n",
    "\n",
    "# fit the data with linearModelFit [ /2 marks]\n",
    "bpr, R2 = # ****** your code here ******\n",
    "\n",
    "# use new x data for your prediction plot\n",
    "x_grid = np.linspace(x.min(), x.max(),10)\n",
    "Xnew = np.c_[np.ones(x_grid.size), x_grid]\n",
    "\n",
    "# get your predicted y ('yp') using Xnew [ /2 marks]\n",
    "yp = # ****** your code here ******\n",
    "\n",
    "# plot the iris data with your prediction line, print R2 [ /5 marks]\n",
    "# ****** your code here ******\n",
    "\n",
    "# repeat the above process for L1 (i.e. repeat lines 10-17 for L1) [ /2 marks]\n",
    "# ****** your code here ******\n",
    "\n",
    "\n",
    "\n",
    "\n",
    "#  Which of the two fit lines appears to best match the data? [ /2 marks]\n",
    "\n"
   ]
  },
  {
   "cell_type": "markdown",
   "metadata": {},
   "source": [
    "### Question 2.4: [ _/14 marks]\n",
    "\n",
    "Ok, let's put everything together into a single plot. To start, plot the combined DataFrame (iris + outliers). Next, plot prediction lines for L1 and L2 fits on the combined data. Finally, plot prediction lines for L1 and L2 fits on the original (iris) data. Add a legend; also add axis labels. *Based on this plot, does L1 loss or L2 loss appear to be more robust to outliers?*"
   ]
  },
  {
   "cell_type": "code",
   "execution_count": null,
   "metadata": {},
   "outputs": [],
   "source": [
    "# this increases the figure size for added viewability\n",
    "from pylab import rcParams\n",
    "rcParams['figure.figsize'] = 15, 10\n",
    "\n",
    "# plot the data and fits (L1, L2) for the combined dataset [ /5 marks]\n",
    "# ****** your code here ******\n",
    "\n",
    "\n",
    "\n",
    "\n",
    "\n",
    "\n",
    "\n",
    "\n",
    "\n",
    "\n",
    "\n",
    "\n",
    "# plot fits (L1, L2) for the original iris dataset [ /5 marks], include legend/labels [ /2 marks]\n",
    "# ****** your code here ******\n",
    "\n",
    "\n",
    "\n",
    "\n",
    "\n",
    "\n",
    "\n",
    "\n",
    "\n",
    "\n",
    "\n",
    "\n",
    "# Based on this plot, does L1 loss or L2 loss appear to be more robust to outliers? [ /2 marks]\n",
    "\n"
   ]
  }
 ],
 "metadata": {
  "kernelspec": {
   "display_name": "Python 3",
   "language": "python",
   "name": "python3"
  },
  "language_info": {
   "codemirror_mode": {
    "name": "ipython",
    "version": 3
   },
   "file_extension": ".py",
   "mimetype": "text/x-python",
   "name": "python",
   "nbconvert_exporter": "python",
   "pygments_lexer": "ipython3",
   "version": "3.8.8"
  }
 },
 "nbformat": 4,
 "nbformat_minor": 4
}
