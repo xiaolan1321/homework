{
 "cells": [
  {
   "cell_type": "markdown",
   "metadata": {},
   "source": [
    "## L3 Code: Logistic Regression Implementation"
   ]
  },
  {
   "cell_type": "code",
   "execution_count": 1,
   "metadata": {},
   "outputs": [],
   "source": [
    "import pandas as pd\n",
    "import numpy as np\n",
    "from sklearn.model_selection import train_test_split\n",
    "from sklearn.linear_model import LogisticRegression\n",
    "from sklearn.metrics import recall_score, confusion_matrix, roc_curve, auc\n",
    "import seaborn as sns\n",
    "import matplotlib.pyplot as plt\n",
    "%matplotlib inline"
   ]
  },
  {
   "cell_type": "markdown",
   "metadata": {},
   "source": [
    "## Logistic Regression Using Sklearn"
   ]
  },
  {
   "cell_type": "code",
   "execution_count": 2,
   "metadata": {
    "scrolled": true
   },
   "outputs": [
    {
     "data": {
      "text/html": [
       "<div>\n",
       "<style scoped>\n",
       "    .dataframe tbody tr th:only-of-type {\n",
       "        vertical-align: middle;\n",
       "    }\n",
       "\n",
       "    .dataframe tbody tr th {\n",
       "        vertical-align: top;\n",
       "    }\n",
       "\n",
       "    .dataframe thead th {\n",
       "        text-align: right;\n",
       "    }\n",
       "</style>\n",
       "<table border=\"1\" class=\"dataframe\">\n",
       "  <thead>\n",
       "    <tr style=\"text-align: right;\">\n",
       "      <th></th>\n",
       "      <th>AREA</th>\n",
       "      <th>PERIMETER</th>\n",
       "      <th>MAJORAXIS</th>\n",
       "      <th>MINORAXIS</th>\n",
       "      <th>ECCENTRICITY</th>\n",
       "      <th>CONVEX_AREA</th>\n",
       "      <th>EXTENT</th>\n",
       "      <th>CLASS</th>\n",
       "    </tr>\n",
       "  </thead>\n",
       "  <tbody>\n",
       "    <tr>\n",
       "      <th>0</th>\n",
       "      <td>15231</td>\n",
       "      <td>525.578979</td>\n",
       "      <td>229.749878</td>\n",
       "      <td>85.093788</td>\n",
       "      <td>0.928882</td>\n",
       "      <td>15617</td>\n",
       "      <td>0.572896</td>\n",
       "      <td>Cammeo</td>\n",
       "    </tr>\n",
       "    <tr>\n",
       "      <th>1</th>\n",
       "      <td>14656</td>\n",
       "      <td>494.311005</td>\n",
       "      <td>206.020065</td>\n",
       "      <td>91.730972</td>\n",
       "      <td>0.895405</td>\n",
       "      <td>15072</td>\n",
       "      <td>0.615436</td>\n",
       "      <td>Cammeo</td>\n",
       "    </tr>\n",
       "    <tr>\n",
       "      <th>2</th>\n",
       "      <td>14634</td>\n",
       "      <td>501.122009</td>\n",
       "      <td>214.106781</td>\n",
       "      <td>87.768288</td>\n",
       "      <td>0.912118</td>\n",
       "      <td>14954</td>\n",
       "      <td>0.693259</td>\n",
       "      <td>Cammeo</td>\n",
       "    </tr>\n",
       "    <tr>\n",
       "      <th>3</th>\n",
       "      <td>13176</td>\n",
       "      <td>458.342987</td>\n",
       "      <td>193.337387</td>\n",
       "      <td>87.448395</td>\n",
       "      <td>0.891861</td>\n",
       "      <td>13368</td>\n",
       "      <td>0.640669</td>\n",
       "      <td>Cammeo</td>\n",
       "    </tr>\n",
       "    <tr>\n",
       "      <th>4</th>\n",
       "      <td>14688</td>\n",
       "      <td>507.166992</td>\n",
       "      <td>211.743378</td>\n",
       "      <td>89.312454</td>\n",
       "      <td>0.906691</td>\n",
       "      <td>15262</td>\n",
       "      <td>0.646024</td>\n",
       "      <td>Cammeo</td>\n",
       "    </tr>\n",
       "  </tbody>\n",
       "</table>\n",
       "</div>"
      ],
      "text/plain": [
       "    AREA   PERIMETER   MAJORAXIS  MINORAXIS  ECCENTRICITY  CONVEX_AREA  \\\n",
       "0  15231  525.578979  229.749878  85.093788      0.928882        15617   \n",
       "1  14656  494.311005  206.020065  91.730972      0.895405        15072   \n",
       "2  14634  501.122009  214.106781  87.768288      0.912118        14954   \n",
       "3  13176  458.342987  193.337387  87.448395      0.891861        13368   \n",
       "4  14688  507.166992  211.743378  89.312454      0.906691        15262   \n",
       "\n",
       "     EXTENT   CLASS  \n",
       "0  0.572896  Cammeo  \n",
       "1  0.615436  Cammeo  \n",
       "2  0.693259  Cammeo  \n",
       "3  0.640669  Cammeo  \n",
       "4  0.646024  Cammeo  "
      ]
     },
     "execution_count": 2,
     "metadata": {},
     "output_type": "execute_result"
    }
   ],
   "source": [
    "# This dataset describes grains of rice as on 7 input features, with 2 class outputs (Cammeo or Osmancik)\n",
    "rice = pd.read_csv(\"Rice_Osmancik_Cammeo_Dataset.csv\")\n",
    "rice.head()"
   ]
  },
  {
   "cell_type": "code",
   "execution_count": 3,
   "metadata": {},
   "outputs": [
    {
     "data": {
      "text/plain": [
       "Osmancik    2180\n",
       "Cammeo      1630\n",
       "Name: CLASS, dtype: int64"
      ]
     },
     "execution_count": 3,
     "metadata": {},
     "output_type": "execute_result"
    }
   ],
   "source": [
    "# Is it class-balanced or unbalanced?\n",
    "rice.CLASS.value_counts()"
   ]
  },
  {
   "cell_type": "code",
   "execution_count": 4,
   "metadata": {},
   "outputs": [],
   "source": [
    "# Split data, train logistic regression\n",
    "X = rice.iloc[:,0:7].values\n",
    "y = rice.CLASS.values\n",
    "\n",
    "Xtrain, Xtest, ytrain, ytest = train_test_split(X, y, test_size=0.5, random_state=0)"
   ]
  },
  {
   "cell_type": "code",
   "execution_count": 5,
   "metadata": {},
   "outputs": [
    {
     "name": "stdout",
     "output_type": "stream",
     "text": [
      "Intercept [0.00318845] \n",
      "Coefficients: [[ 0.00608732  0.14475211 -0.24051264  0.39193589  0.00145249 -0.01007885\n",
      "   0.003195  ]]\n"
     ]
    }
   ],
   "source": [
    "# Fit model, print coefficients\n",
    "ricelr = LogisticRegression(penalty='none').fit(Xtrain,ytrain)\n",
    "\n",
    "print(f\"Intercept {ricelr.intercept_} \\nCoefficients: {ricelr.coef_}\")"
   ]
  },
  {
   "cell_type": "code",
   "execution_count": 6,
   "metadata": {},
   "outputs": [
    {
     "name": "stdout",
     "output_type": "stream",
     "text": [
      "[[9.65850686e-01]\n",
      " [3.10777332e-05]\n",
      " [4.75278589e-01]\n",
      " ...\n",
      " [1.79521950e-02]\n",
      " [8.47432156e-01]\n",
      " [1.86643411e-04]]\n"
     ]
    }
   ],
   "source": [
    "# Predict manually\n",
    "sigmoid = lambda x: 1 / (1 + np.exp(-x))\n",
    "y_pred_manual = sigmoid(np.dot(Xtest,ricelr.coef_.T) + ricelr.intercept_)\n",
    "print(y_pred_manual)"
   ]
  },
  {
   "cell_type": "code",
   "execution_count": 7,
   "metadata": {},
   "outputs": [
    {
     "data": {
      "text/plain": [
       "array([[3.41493136e-02, 9.65850686e-01],\n",
       "       [9.99968922e-01, 3.10777332e-05],\n",
       "       [5.24721411e-01, 4.75278589e-01],\n",
       "       ...,\n",
       "       [9.82047805e-01, 1.79521950e-02],\n",
       "       [1.52567844e-01, 8.47432156e-01],\n",
       "       [9.99813357e-01, 1.86643411e-04]])"
      ]
     },
     "execution_count": 7,
     "metadata": {},
     "output_type": "execute_result"
    }
   ],
   "source": [
    "# Predict with sklearn. Note: probabilities of class 0 (first col), class 1 (2nd col)\n",
    "ricelr.predict_proba(Xtest)"
   ]
  },
  {
   "cell_type": "code",
   "execution_count": 8,
   "metadata": {},
   "outputs": [
    {
     "name": "stdout",
     "output_type": "stream",
     "text": [
      "['Osmancik' 'Cammeo' 'Cammeo' ... 'Cammeo' 'Osmancik' 'Cammeo']\n"
     ]
    }
   ],
   "source": [
    "# Get label predictions\n",
    "y_pred = ricelr.predict(Xtest)\n",
    "print(y_pred)"
   ]
  },
  {
   "cell_type": "markdown",
   "metadata": {},
   "source": [
    "## Evaluation of Classifiers"
   ]
  },
  {
   "cell_type": "code",
   "execution_count": 9,
   "metadata": {},
   "outputs": [
    {
     "name": "stdout",
     "output_type": "stream",
     "text": [
      "tp: 1001 tn: 773 fp: 81 fn: 50\n",
      "Accuracy: 0.931 Recall: 0.952 Precision: 0.925 Sensitivity: 0.952 Specificity: 0.905\n"
     ]
    }
   ],
   "source": [
    "def compute_performance(yhat, y, classes):\n",
    "    tp = sum(np.logical_and(yhat == classes[1], y == classes[1]))\n",
    "    tn = sum(np.logical_and(yhat == classes[0], y == classes[0]))\n",
    "    fp = sum(np.logical_and(yhat == classes[1], y == classes[0]))\n",
    "    fn = sum(np.logical_and(yhat == classes[0], y == classes[1]))\n",
    "\n",
    "    print(f\"tp: {tp} tn: {tn} fp: {fp} fn: {fn}\")\n",
    "    \n",
    "    # Accuracy\n",
    "    acc = (tp + tn) / (tp + tn + fp + fn)\n",
    "    \n",
    "    # Precision\n",
    "    # \"Of the ones I labeled +, how many are actually +?\"\n",
    "    precision = tp / (tp + fp)\n",
    "    \n",
    "    # Recall\n",
    "    # \"Of all the + in the data, how many do I correctly label?\"\n",
    "    recall = tp / (tp + fn)    \n",
    "    \n",
    "    # Sensitivity\n",
    "    sensitivity = recall\n",
    "    \n",
    "    # Specificity\n",
    "    # \"Of all the - in the data, how many do I correctly label?\"\n",
    "    specificity = tn / (fp + tn)\n",
    "        \n",
    "    print(\"Accuracy:\",round(acc,3),\"Recall:\",round(recall,3),\"Precision:\",round(precision,3),\n",
    "          \"Sensitivity:\",round(sensitivity,3),\"Specificity:\",round(specificity,3))\n",
    "\n",
    "compute_performance(y_pred, ytest, ricelr.classes_)"
   ]
  },
  {
   "cell_type": "code",
   "execution_count": 10,
   "metadata": {},
   "outputs": [
    {
     "name": "stdout",
     "output_type": "stream",
     "text": [
      "tp: 1040 tn: 613 fp: 241 fn: 11\n",
      "Accuracy: 0.868 Recall: 0.99 Precision: 0.812 Sensitivity: 0.99 Specificity: 0.718\n"
     ]
    }
   ],
   "source": [
    "# Now let's experiment by adjusting the decision threshold\n",
    "ytest_prob = ricelr.predict_proba(Xtest)\n",
    "yhat = ricelr.classes_[(ytest_prob[:,1]>0.1).astype(int)]\n",
    "\n",
    "compute_performance(yhat, ytest, ricelr.classes_)"
   ]
  },
  {
   "cell_type": "code",
   "execution_count": 11,
   "metadata": {},
   "outputs": [
    {
     "name": "stderr",
     "output_type": "stream",
     "text": [
      "C:\\Users\\jacob\\miniconda3\\lib\\site-packages\\seaborn\\_decorators.py:43: FutureWarning: Pass the following variables as keyword args: x, y. From version 0.12, the only valid positional argument will be `data`, and passing other arguments without an explicit keyword will result in an error or misinterpretation.\n",
      "  FutureWarning\n"
     ]
    },
    {
     "data": {
      "image/png": "[encoded data removed]",
      "text/plain": [
       "<Figure size 432x288 with 1 Axes>"
      ]
     },
     "metadata": {
      "needs_background": "light"
     },
     "output_type": "display_data"
    }
   ],
   "source": [
    "# ROC using sklearns ROC curve. \n",
    "fpr, tpr, _ = roc_curve(ytest, ytest_prob[:,1], pos_label=\"Osmancik\")\n",
    "ax=sns.lineplot(fpr,tpr)"
   ]
  },
  {
   "cell_type": "code",
   "execution_count": 12,
   "metadata": {},
   "outputs": [
    {
     "data": {
      "text/plain": [
       "0.9801115030404856"
      ]
     },
     "execution_count": 12,
     "metadata": {},
     "output_type": "execute_result"
    }
   ],
   "source": [
    "# AUROC\n",
    "auc(fpr,tpr)"
   ]
  },
  {
   "cell_type": "markdown",
   "metadata": {},
   "source": [
    "## Multiclass Logistic Regression"
   ]
  },
  {
   "cell_type": "code",
   "execution_count": 13,
   "metadata": {},
   "outputs": [
    {
     "data": {
      "text/html": [
       "<div>\n",
       "<style scoped>\n",
       "    .dataframe tbody tr th:only-of-type {\n",
       "        vertical-align: middle;\n",
       "    }\n",
       "\n",
       "    .dataframe tbody tr th {\n",
       "        vertical-align: top;\n",
       "    }\n",
       "\n",
       "    .dataframe thead th {\n",
       "        text-align: right;\n",
       "    }\n",
       "</style>\n",
       "<table border=\"1\" class=\"dataframe\">\n",
       "  <thead>\n",
       "    <tr style=\"text-align: right;\">\n",
       "      <th></th>\n",
       "      <th>Sepal-length</th>\n",
       "      <th>Sepal-width</th>\n",
       "      <th>Petal-length</th>\n",
       "      <th>Petal-width</th>\n",
       "      <th>Species</th>\n",
       "    </tr>\n",
       "  </thead>\n",
       "  <tbody>\n",
       "    <tr>\n",
       "      <th>0</th>\n",
       "      <td>5.1</td>\n",
       "      <td>3.5</td>\n",
       "      <td>1.4</td>\n",
       "      <td>0.2</td>\n",
       "      <td>Iris-setosa</td>\n",
       "    </tr>\n",
       "    <tr>\n",
       "      <th>1</th>\n",
       "      <td>4.9</td>\n",
       "      <td>3.0</td>\n",
       "      <td>1.4</td>\n",
       "      <td>0.2</td>\n",
       "      <td>Iris-setosa</td>\n",
       "    </tr>\n",
       "    <tr>\n",
       "      <th>2</th>\n",
       "      <td>4.7</td>\n",
       "      <td>3.2</td>\n",
       "      <td>1.3</td>\n",
       "      <td>0.2</td>\n",
       "      <td>Iris-setosa</td>\n",
       "    </tr>\n",
       "    <tr>\n",
       "      <th>3</th>\n",
       "      <td>4.6</td>\n",
       "      <td>3.1</td>\n",
       "      <td>1.5</td>\n",
       "      <td>0.2</td>\n",
       "      <td>Iris-setosa</td>\n",
       "    </tr>\n",
       "    <tr>\n",
       "      <th>4</th>\n",
       "      <td>5.0</td>\n",
       "      <td>3.6</td>\n",
       "      <td>1.4</td>\n",
       "      <td>0.2</td>\n",
       "      <td>Iris-setosa</td>\n",
       "    </tr>\n",
       "  </tbody>\n",
       "</table>\n",
       "</div>"
      ],
      "text/plain": [
       "   Sepal-length  Sepal-width  Petal-length  Petal-width      Species\n",
       "0           5.1          3.5           1.4          0.2  Iris-setosa\n",
       "1           4.9          3.0           1.4          0.2  Iris-setosa\n",
       "2           4.7          3.2           1.3          0.2  Iris-setosa\n",
       "3           4.6          3.1           1.5          0.2  Iris-setosa\n",
       "4           5.0          3.6           1.4          0.2  Iris-setosa"
      ]
     },
     "execution_count": 13,
     "metadata": {},
     "output_type": "execute_result"
    }
   ],
   "source": [
    "# Read data\n",
    "iris = pd.read_csv(\"iris.csv\")\n",
    "iris.head()"
   ]
  },
  {
   "cell_type": "code",
   "execution_count": 14,
   "metadata": {},
   "outputs": [
    {
     "data": {
      "text/plain": [
       "Iris-virginica     50\n",
       "Iris-versicolor    50\n",
       "Iris-setosa        50\n",
       "Name: Species, dtype: int64"
      ]
     },
     "execution_count": 14,
     "metadata": {},
     "output_type": "execute_result"
    }
   ],
   "source": [
    "# Check out class distribution\n",
    "iris.Species.value_counts()"
   ]
  },
  {
   "cell_type": "code",
   "execution_count": 15,
   "metadata": {},
   "outputs": [],
   "source": [
    "# Create y and X. Not going to split these data for this demonstration.\n",
    "y = iris.Species.values\n",
    "X = iris.drop(\"Species\", axis=\"columns\")"
   ]
  },
  {
   "cell_type": "code",
   "execution_count": 21,
   "metadata": {},
   "outputs": [
    {
     "name": "stdout",
     "output_type": "stream",
     "text": [
      "Intercepts: [  2.40602513  20.11591914 -22.52194426] \n",
      "Coefficients: [[  5.02111902   7.99305345 -13.27357932  -6.86257839]\n",
      " [ -1.27794985  -0.65608169   1.92209258  -5.7117848 ]\n",
      " [ -3.74316918  -7.33697176  11.35148674  12.57436319]]\n"
     ]
    },
    {
     "name": "stderr",
     "output_type": "stream",
     "text": [
      "C:\\Users\\jacob\\miniconda3\\lib\\site-packages\\sklearn\\linear_model\\_logistic.py:1323: UserWarning: Setting penalty='none' will ignore the C and l1_ratio parameters\n",
      "  \"Setting penalty='none' will ignore the C and l1_ratio \"\n"
     ]
    }
   ],
   "source": [
    "# Fit the data using Sklearn's Logistic Regression\n",
    "IRISLR = LogisticRegression(penalty='none',solver='newton-cg',C=0.01)\n",
    "irislr = IRISLR.fit(X,y)\n",
    "print(f\"Intercepts: {irislr.intercept_} \\nCoefficients: {irislr.coef_}\")\n",
    "\n",
    "#IRISLR = LogisticRegression(penalty='l2',solver='newton-cg',C=0.01)\n",
    "#irislr = IRISLR.fit(X,y)\n",
    "#print(f\"Intercepts: {irislr.intercept_} \\nCoefficients: {irislr.coef_}\")"
   ]
  },
  {
   "cell_type": "code",
   "execution_count": 23,
   "metadata": {},
   "outputs": [
    {
     "data": {
      "text/plain": [
       "array([[1.00000000e+00, 8.54379424e-11, 1.31943258e-37],\n",
       "       [9.99999977e-01, 2.27466148e-08, 1.62373919e-33],\n",
       "       [9.99999997e-01, 3.11066307e-09, 3.72195038e-35],\n",
       "       [9.99999710e-01, 2.89683922e-07, 5.70268328e-32],\n",
       "       [1.00000000e+00, 6.75442991e-11, 6.84291062e-38],\n",
       "       [1.00000000e+00, 4.87778280e-11, 1.62942676e-36],\n",
       "       [9.99999995e-01, 5.30984325e-09, 3.41537492e-34],\n",
       "       [9.99999998e-01, 1.74093548e-09, 1.72283215e-35],\n",
       "       [9.99998740e-01, 1.25999502e-06, 6.01771024e-31],\n",
       "       [9.99999961e-01, 3.90167341e-08, 5.88923809e-34],\n",
       "       [1.00000000e+00, 1.04626293e-11, 5.20483014e-39],\n",
       "       [9.99999972e-01, 2.80448086e-08, 1.16668171e-33],\n",
       "       [9.99999962e-01, 3.80630443e-08, 5.58481534e-34],\n",
       "       [9.99999991e-01, 9.30057977e-09, 2.76560875e-35],\n",
       "       [1.00000000e+00, 6.58688472e-16, 9.73220079e-46],\n",
       "       [1.00000000e+00, 4.67209947e-15, 4.00287017e-43],\n",
       "       [1.00000000e+00, 1.11805682e-13, 8.59454170e-41],\n",
       "       [1.00000000e+00, 9.58581650e-11, 9.21558375e-37],\n",
       "       [1.00000000e+00, 1.56018478e-11, 7.79451563e-38],\n",
       "       [1.00000000e+00, 3.27105057e-11, 1.08805857e-37],\n",
       "       [9.99999997e-01, 2.92685783e-09, 7.12256182e-35],\n",
       "       [1.00000000e+00, 8.71550898e-11, 3.52016043e-36],\n",
       "       [1.00000000e+00, 1.92349233e-12, 1.20210263e-40],\n",
       "       [9.99999935e-01, 6.49619441e-08, 1.55848376e-30],\n",
       "       [9.99997323e-01, 2.67713497e-06, 1.88499555e-30],\n",
       "       [9.99999747e-01, 2.53064297e-07, 9.30666395e-32],\n",
       "       [9.99999990e-01, 1.00156463e-08, 9.86205205e-33],\n",
       "       [1.00000000e+00, 2.07981804e-10, 6.44483841e-37],\n",
       "       [1.00000000e+00, 1.08071919e-10, 2.54409625e-37],\n",
       "       [9.99999703e-01, 2.96942104e-07, 6.01353085e-32],\n",
       "       [9.99999624e-01, 3.75607131e-07, 1.15951359e-31],\n",
       "       [1.00000000e+00, 1.76392046e-10, 2.52348927e-35],\n",
       "       [1.00000000e+00, 1.03343701e-12, 9.34177001e-42],\n",
       "       [1.00000000e+00, 1.61435958e-14, 8.65869917e-44],\n",
       "       [9.99999956e-01, 4.37753112e-08, 4.11334141e-33],\n",
       "       [1.00000000e+00, 1.02853263e-10, 2.28787846e-37],\n",
       "       [1.00000000e+00, 1.50470303e-12, 3.37614718e-40],\n",
       "       [1.00000000e+00, 1.13025244e-10, 2.35360414e-38],\n",
       "       [9.99999884e-01, 1.16092059e-07, 1.10714423e-32],\n",
       "       [9.99999999e-01, 9.27294304e-10, 7.17157870e-36],\n",
       "       [1.00000000e+00, 3.93780813e-11, 1.88667902e-37],\n",
       "       [9.99970448e-01, 2.95524259e-05, 1.47272146e-27],\n",
       "       [9.99999979e-01, 2.05848744e-08, 5.16006501e-34],\n",
       "       [9.99999995e-01, 5.30894807e-09, 1.03863763e-31],\n",
       "       [9.99999984e-01, 1.60112104e-08, 1.44078785e-32],\n",
       "       [9.99999952e-01, 4.79137516e-08, 2.72445795e-32],\n",
       "       [1.00000000e+00, 1.33244279e-10, 1.82797249e-37],\n",
       "       [9.99999973e-01, 2.66905605e-08, 1.04918434e-33],\n",
       "       [1.00000000e+00, 1.96429144e-11, 1.25035911e-38],\n",
       "       [9.99999999e-01, 9.04628358e-10, 6.80087001e-36],\n",
       "       [5.77365699e-09, 9.99988278e-01, 1.17166581e-05],\n",
       "       [2.45440048e-09, 9.99951435e-01, 4.85620482e-05],\n",
       "       [5.51931689e-11, 9.98801377e-01, 1.19862285e-03],\n",
       "       [8.84856443e-12, 9.99957800e-01, 4.22000109e-05],\n",
       "       [3.16571034e-11, 9.98591536e-01, 1.40846389e-03],\n",
       "       [1.18144819e-12, 9.99898143e-01, 1.01856911e-04],\n",
       "       [1.32313312e-10, 9.98694279e-01, 1.30572128e-03],\n",
       "       [2.82254126e-08, 9.99999971e-01, 5.35175908e-10],\n",
       "       [1.77920452e-10, 9.99985418e-01, 1.45823119e-05],\n",
       "       [1.73244493e-10, 9.99985189e-01, 1.48104501e-05],\n",
       "       [7.97659281e-11, 9.99999960e-01, 3.99070552e-08],\n",
       "       [1.78110464e-09, 9.99962555e-01, 3.74431161e-05],\n",
       "       [1.22750806e-10, 9.99999900e-01, 9.94696730e-08],\n",
       "       [1.48642063e-12, 9.99201138e-01, 7.98862279e-04],\n",
       "       [1.30010144e-06, 9.99998686e-01, 1.37825459e-08],\n",
       "       [3.50712577e-08, 9.99997136e-01, 2.82881252e-06],\n",
       "       [2.81588719e-12, 9.98674006e-01, 1.32599380e-03],\n",
       "       [5.75559737e-10, 9.99999985e-01, 1.48113108e-08],\n",
       "       [1.14783176e-13, 9.40402017e-01, 5.95979833e-02],\n",
       "       [5.39022423e-10, 9.99999912e-01, 8.71254391e-08],\n",
       "       [4.64539325e-13, 5.95162170e-01, 4.04837830e-01],\n",
       "       [2.92696364e-08, 9.99999630e-01, 3.40576903e-07],\n",
       "       [5.45315216e-15, 7.75166378e-01, 2.24833622e-01],\n",
       "       [7.88498415e-13, 9.99959762e-01, 4.02378026e-05],\n",
       "       [4.81859425e-09, 9.99998585e-01, 1.41064644e-06],\n",
       "       [7.86606016e-09, 9.99992932e-01, 7.06013206e-06],\n",
       "       [1.12607699e-11, 9.99287593e-01, 7.12407426e-04],\n",
       "       [8.30718700e-13, 7.23938100e-01, 2.76061900e-01],\n",
       "       [1.47368723e-11, 9.99034853e-01, 9.65146626e-04],\n",
       "       [1.17634720e-06, 9.99998824e-01, 1.29039647e-10],\n",
       "       [5.52527918e-10, 9.99999915e-01, 8.46919399e-08],\n",
       "       [2.83316740e-09, 9.99999992e-01, 5.29872538e-09],\n",
       "       [9.55021173e-09, 9.99999903e-01, 8.70725620e-08],\n",
       "       [3.38644234e-17, 1.32369992e-01, 8.67630008e-01],\n",
       "       [7.98211973e-13, 9.97830794e-01, 2.16920642e-03],\n",
       "       [9.92863795e-10, 9.99787018e-01, 2.12980881e-04],\n",
       "       [3.27360210e-10, 9.99702029e-01, 2.97970627e-04],\n",
       "       [3.12998623e-12, 9.99744866e-01, 2.55134208e-04],\n",
       "       [1.54848287e-09, 9.99999210e-01, 7.88404749e-07],\n",
       "       [4.99046094e-11, 9.99988907e-01, 1.10925485e-05],\n",
       "       [3.04772061e-13, 9.99960302e-01, 3.96979212e-05],\n",
       "       [1.61430759e-11, 9.99840379e-01, 1.59620590e-04],\n",
       "       [8.79925777e-10, 9.99999563e-01, 4.36055662e-07],\n",
       "       [2.23140406e-08, 9.99999977e-01, 8.15794571e-10],\n",
       "       [2.52975860e-11, 9.99984979e-01, 1.50209896e-05],\n",
       "       [7.13691310e-10, 9.99999745e-01, 2.54122089e-07],\n",
       "       [2.67857421e-10, 9.99996914e-01, 3.08564439e-06],\n",
       "       [1.36706700e-09, 9.99997689e-01, 2.30963855e-06],\n",
       "       [2.01015489e-05, 9.99979898e-01, 6.16355674e-11],\n",
       "       [5.15485535e-10, 9.99997655e-01, 2.34412183e-06],\n",
       "       [3.20363356e-29, 2.58518854e-10, 1.00000000e+00],\n",
       "       [1.98416630e-20, 3.86090474e-04, 9.99613910e-01],\n",
       "       [9.98481521e-24, 9.65377715e-07, 9.99999035e-01],\n",
       "       [1.06950847e-21, 2.81148250e-04, 9.99718852e-01],\n",
       "       [8.72747457e-26, 9.07141480e-08, 9.99999909e-01],\n",
       "       [2.60801591e-29, 4.50214592e-09, 9.99999995e-01],\n",
       "       [3.93838735e-17, 1.09188025e-01, 8.90811975e-01],\n",
       "       [2.23570852e-25, 4.49876187e-06, 9.99995501e-01],\n",
       "       [5.62097317e-25, 7.90114959e-06, 9.99992099e-01],\n",
       "       [7.23048137e-25, 6.87051006e-09, 9.99999993e-01],\n",
       "       [2.77095059e-15, 9.74151948e-03, 9.90258481e-01],\n",
       "       [2.77011149e-20, 2.57097023e-04, 9.99742903e-01],\n",
       "       [1.36539804e-20, 2.00241083e-05, 9.99979976e-01],\n",
       "       [6.46951431e-22, 3.27220722e-05, 9.99967278e-01],\n",
       "       [5.53148885e-24, 8.05781972e-08, 9.99999919e-01],\n",
       "       [2.48277240e-20, 4.83408406e-06, 9.99995166e-01],\n",
       "       [3.34803521e-19, 2.30061630e-03, 9.97699384e-01],\n",
       "       [1.62011564e-25, 7.55076415e-08, 9.99999924e-01],\n",
       "       [1.72667225e-36, 6.06790004e-13, 1.00000000e+00],\n",
       "       [1.38084616e-18, 7.95076665e-02, 9.20492333e-01],\n",
       "       [1.04777425e-22, 3.81573467e-07, 9.99999618e-01],\n",
       "       [3.13922736e-19, 4.87007705e-04, 9.99512992e-01],\n",
       "       [1.73808889e-30, 3.67140146e-09, 9.99999996e-01],\n",
       "       [1.44855702e-15, 5.15660146e-02, 9.48433985e-01],\n",
       "       [4.10251018e-21, 1.76159657e-05, 9.99982384e-01],\n",
       "       [1.49375681e-20, 4.41389881e-04, 9.99558610e-01],\n",
       "       [2.84932337e-14, 1.75455903e-01, 8.24544097e-01],\n",
       "       [2.11024073e-14, 1.97700898e-01, 8.02299102e-01],\n",
       "       [1.62836866e-24, 7.64717389e-07, 9.99999235e-01],\n",
       "       [4.54369589e-18, 2.87985161e-02, 9.71201484e-01],\n",
       "       [2.28580857e-24, 3.12520710e-06, 9.99996875e-01],\n",
       "       [7.36881441e-20, 8.10842943e-05, 9.99918916e-01],\n",
       "       [2.33140309e-25, 1.22841165e-07, 9.99999877e-01],\n",
       "       [3.58666513e-15, 7.95125963e-01, 2.04874037e-01],\n",
       "       [4.28971063e-21, 3.35952208e-02, 9.66404779e-01],\n",
       "       [2.85714506e-25, 1.65857444e-08, 9.99999983e-01],\n",
       "       [1.96501143e-23, 1.36411313e-07, 9.99999864e-01],\n",
       "       [6.44781797e-19, 3.50271548e-03, 9.96497285e-01],\n",
       "       [8.59684429e-14, 3.30857621e-01, 6.69142379e-01],\n",
       "       [1.78265793e-18, 1.28300996e-04, 9.99871699e-01],\n",
       "       [6.58497776e-24, 4.92788745e-08, 9.99999951e-01],\n",
       "       [5.90455533e-17, 5.60385561e-05, 9.99943961e-01],\n",
       "       [1.98416630e-20, 3.86090474e-04, 9.99613910e-01],\n",
       "       [3.16762387e-25, 4.52364409e-08, 9.99999955e-01],\n",
       "       [1.72391053e-24, 1.17296441e-08, 9.99999988e-01],\n",
       "       [1.88245498e-19, 6.83472934e-06, 9.99993165e-01],\n",
       "       [8.67765951e-19, 8.93311418e-04, 9.99106689e-01],\n",
       "       [1.11030157e-17, 1.00608078e-03, 9.98993919e-01],\n",
       "       [7.86641307e-21, 4.37491400e-06, 9.99995625e-01],\n",
       "       [3.23615620e-17, 2.23210993e-02, 9.77678901e-01]])"
      ]
     },
     "execution_count": 23,
     "metadata": {},
     "output_type": "execute_result"
    }
   ],
   "source": [
    "# Get the predictions\n",
    "yhat = irislr.predict(X)\n",
    "yhat_probs = irislr.predict_proba(X)\n",
    "yhat_probs"
   ]
  },
  {
   "cell_type": "code",
   "execution_count": 18,
   "metadata": {},
   "outputs": [],
   "source": [
    "conf = confusion_matrix(yhat,y)\n"
   ]
  },
  {
   "cell_type": "code",
   "execution_count": 19,
   "metadata": {},
   "outputs": [
    {
     "data": {
      "image/png": "[encoded data removed]",
      "text/plain": [
       "<Figure size 432x288 with 2 Axes>"
      ]
     },
     "metadata": {
      "needs_background": "light"
     },
     "output_type": "display_data"
    }
   ],
   "source": [
    "from sklearn.metrics import confusion_matrix, ConfusionMatrixDisplay\n",
    "\n",
    "ConfusionMatrixDisplay(conf).plot()\n",
    "plt.show()"
   ]
  }
 ],
 "metadata": {
  "kernelspec": {
   "display_name": "Python 3 (ipykernel)",
   "language": "python",
   "name": "python3"
  },
  "language_info": {
   "codemirror_mode": {
    "name": "ipython",
    "version": 3
   },
   "file_extension": ".py",
   "mimetype": "text/x-python",
   "name": "python",
   "nbconvert_exporter": "python",
   "pygments_lexer": "ipython3",
   "version": "3.7.6"
  }
 },
 "nbformat": 4,
 "nbformat_minor": 4
}
